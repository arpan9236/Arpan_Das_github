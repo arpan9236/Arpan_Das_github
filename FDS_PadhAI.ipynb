{
  "nbformat": 4,
  "nbformat_minor": 0,
  "metadata": {
    "colab": {
      "provenance": [],
      "toc_visible": true,
      "authorship_tag": "ABX9TyOftGWg16G4jGxmzgetJ/WV",
      "include_colab_link": true
    },
    "kernelspec": {
      "name": "python3",
      "display_name": "Python 3"
    },
    "language_info": {
      "name": "python"
    }
  },
  "cells": [
    {
      "cell_type": "markdown",
      "metadata": {
        "id": "view-in-github",
        "colab_type": "text"
      },
      "source": [
        "<a href=\"https://colab.research.google.com/github/arpan9236/Python_practice_codes/blob/main/FDS_PadhAI.ipynb\" target=\"_parent\"><img src=\"https://colab.research.google.com/assets/colab-badge.svg\" alt=\"Open In Colab\"/></a>"
      ]
    },
    {
      "cell_type": "markdown",
      "source": [
        "# Printing basic types"
      ],
      "metadata": {
        "id": "R8YVl_mrMCgB"
      }
    },
    {
      "cell_type": "code",
      "execution_count": null,
      "metadata": {
        "id": "IurffXQ2F7Cr",
        "colab": {
          "base_uri": "https://localhost:8080/"
        },
        "outputId": "a09d31ea-2d0c-4045-b73c-08bfb68ea027"
      },
      "outputs": [
        {
          "output_type": "stream",
          "name": "stdout",
          "text": [
            "PadhAI\n",
            "PadhAI\n",
            "1729\n",
            "1.6176470588235294\n",
            "True\n",
            "False\n"
          ]
        }
      ],
      "source": [
        "print('PadhAI')\n",
        "print('Padh' + 'AI')   # Introducing the concept of operators. Here the operator is '+' which concatenets two string data types.\n",
        "print(1000 + 729)  # '+' operator acts on two integer data types\n",
        "print(55/34)  # golden ratio. operation on two integeres producing a floating point number\n",
        "\n",
        "print(True or False)  # 'or' here is the operator which returns True if either of the two operands is True. See that True and Fasle are not strings here, they are Boolean variables.\n",
        "print(True and False)  # 'and' operator returns True when both the operands are True"
      ]
    },
    {
      "cell_type": "markdown",
      "source": [
        "# Variables and Inputs"
      ],
      "metadata": {
        "id": "LQmbWFkzMHLt"
      }
    },
    {
      "cell_type": "code",
      "source": [
        "# Here 'PadhAI' is a string object and the variable name school is a reference to this object.\n",
        "# In  Python eberything is an object. Objects are stored with some ids in memory. Variable school\n",
        "# become a reference to the object which is the 'PadhAI' string i.e. school variable pointing to the\n",
        "# 'PadhAI' object in the memory\n",
        "\n",
        "school = 'PadhAI'\n",
        "print(school)\n",
        "\n",
        "# Varible name school is passing to the function type which returns type of the variable.\n",
        "print(type(school))\n",
        "\n",
        "# id function returns a reference in memory, where this particular object school is pointing to, is stored.\n",
        "# so id function returns the memory location address of an object.\n",
        "print(id(school))\n",
        "\n",
        "another_school = 'PadhAI'\n",
        "print(id(another_school))\n",
        "\n",
        "# So we see that the memory location of addresses of the above two variables are exactly same.\n",
        "# So two variables pointing to the same value have the same location in memory. Now two referecnes to the object 'PadhAI'.\n",
        "\n",
        "# Now change the value of the varible another_school\n",
        "another_school = 'JNCASR'\n",
        "print(id(another_school))\n",
        "# We see that now the id has been changed, 'JNCASR' is now a different object and aonther_school is pointing to it."
      ],
      "metadata": {
        "colab": {
          "base_uri": "https://localhost:8080/"
        },
        "id": "Vyk7iGeVIYQG",
        "outputId": "9e2444fc-7d8f-420f-833f-866d1ad5e22b"
      },
      "execution_count": null,
      "outputs": [
        {
          "output_type": "stream",
          "name": "stdout",
          "text": [
            "PadhAI\n",
            "<class 'str'>\n",
            "140664293189616\n",
            "140664293189616\n",
            "140664231168624\n"
          ]
        }
      ]
    },
    {
      "cell_type": "code",
      "source": [
        "my_name = input('What is you name: ')\n",
        "hours_per_day = input('How many hours do you study per day: ')\n",
        "\n",
        "print(my_name + ' studies at ' + school + ' for ' + hours_per_day + ' hours per day')"
      ],
      "metadata": {
        "colab": {
          "base_uri": "https://localhost:8080/"
        },
        "id": "pcOkACwiXt_Y",
        "outputId": "aecc6bb8-e2d1-4efe-d682-ff43907a01e9"
      },
      "execution_count": null,
      "outputs": [
        {
          "output_type": "stream",
          "name": "stdout",
          "text": [
            "What is you name: Arpan\n",
            "How many hours do you study per day: 2\n",
            "Arpan studies at PadhAI for 2 hours per day \n"
          ]
        }
      ]
    },
    {
      "cell_type": "code",
      "source": [
        "# Fibonacci numbers\n",
        "a = 1\n",
        "b = 1\n",
        "print(a)\n",
        "print(b)\n",
        "\n",
        "for i in range(15):\n",
        "  temp_var = a + b\n",
        "  a = b\n",
        "  b = temp_var\n",
        "  print(temp_var)"
      ],
      "metadata": {
        "colab": {
          "base_uri": "https://localhost:8080/"
        },
        "id": "hGKsygPhnAMn",
        "outputId": "2b984d54-fa6c-4e48-bfe9-beb51f6900be"
      },
      "execution_count": null,
      "outputs": [
        {
          "output_type": "stream",
          "name": "stdout",
          "text": [
            "1\n",
            "1\n",
            "2\n",
            "3\n",
            "5\n",
            "8\n",
            "13\n",
            "21\n",
            "34\n",
            "55\n",
            "89\n",
            "144\n",
            "233\n",
            "377\n",
            "610\n",
            "987\n",
            "1597\n"
          ]
        }
      ]
    },
    {
      "cell_type": "code",
      "source": [
        "# use of while loop\n",
        "# when number of iterations is the given input use for loop\n",
        "# when a condition is a given input use while loop\n",
        "a = 1\n",
        "b = 1\n",
        "print(a)\n",
        "print(b)\n",
        "\n",
        "while b < 500:\n",
        "  temp_var = a + b\n",
        "  a = b\n",
        "  b = temp_var\n",
        "  print(temp_var)"
      ],
      "metadata": {
        "colab": {
          "base_uri": "https://localhost:8080/"
        },
        "id": "JbWcAcCeotyA",
        "outputId": "f2371bca-5bd4-48f2-9645-f76d05365cf0"
      },
      "execution_count": null,
      "outputs": [
        {
          "output_type": "stream",
          "name": "stdout",
          "text": [
            "1\n",
            "1\n",
            "2\n",
            "3\n",
            "5\n",
            "8\n",
            "13\n",
            "21\n",
            "34\n",
            "55\n",
            "89\n",
            "144\n",
            "233\n",
            "377\n",
            "610\n"
          ]
        }
      ]
    },
    {
      "cell_type": "code",
      "source": [
        "# To know about the operation of the range function\n",
        "help(range)"
      ],
      "metadata": {
        "id": "xDOC1F5PpqNi"
      },
      "execution_count": null,
      "outputs": []
    },
    {
      "cell_type": "code",
      "source": [
        "# Functions\n",
        "\n",
        "def fibonacci(position):\n",
        "  a = 1\n",
        "  b = 1\n",
        "  for i in range(position):\n",
        "    temp = a + b\n",
        "    a = b\n",
        "    b = temp\n",
        "  return temp\n",
        "\n",
        "print(fibonacci(7), fibonacci(8))\n",
        "\n",
        "for i in range(2, 20):\n",
        "  golden_ratio = fibonacci(i)/fibonacci(i-1)\n",
        "  print(golden_ratio)"
      ],
      "metadata": {
        "colab": {
          "base_uri": "https://localhost:8080/"
        },
        "id": "cx-5rmJKpyXG",
        "outputId": "792e3b49-edfc-4414-f166-7dc5e87100ac"
      },
      "execution_count": null,
      "outputs": [
        {
          "output_type": "stream",
          "name": "stdout",
          "text": [
            "34 55\n",
            "1.5\n",
            "1.6666666666666667\n",
            "1.6\n",
            "1.625\n",
            "1.6153846153846154\n",
            "1.619047619047619\n",
            "1.6176470588235294\n",
            "1.6181818181818182\n",
            "1.6179775280898876\n",
            "1.6180555555555556\n",
            "1.6180257510729614\n",
            "1.6180371352785146\n",
            "1.618032786885246\n",
            "1.618034447821682\n",
            "1.6180338134001253\n",
            "1.618034055727554\n",
            "1.6180339631667064\n",
            "1.6180339985218033\n"
          ]
        }
      ]
    },
    {
      "cell_type": "code",
      "source": [
        "def fibonacci_relative(position, a, b):\n",
        "\n",
        "  for i in range(position):\n",
        "    temp = a + b\n",
        "    a = b\n",
        "    b = temp\n",
        "  return temp\n",
        "\n",
        "print(fibonacci_relative(3, 34, 55))  # 3rd element when starting with a = 34 and b = 55\n",
        "\n",
        "# Also works with:\n",
        "print(fibonacci_relative(3, b=55, a=34))"
      ],
      "metadata": {
        "colab": {
          "base_uri": "https://localhost:8080/"
        },
        "id": "0LCVllW7wT8a",
        "outputId": "64c53062-8d81-4553-faf6-571d4375159f"
      },
      "execution_count": null,
      "outputs": [
        {
          "output_type": "stream",
          "name": "stdout",
          "text": [
            "233\n",
            "233\n"
          ]
        }
      ]
    },
    {
      "cell_type": "code",
      "source": [
        "# Optional arguments\n",
        "\n",
        "def fibonacci_ol(position, a=1, b=1):\n",
        "\n",
        "  for i in range(position):\n",
        "    temp = a + b\n",
        "    a = b\n",
        "    b = temp\n",
        "  return temp\n",
        "\n",
        "print(fibonacci_ol(3))  # if you don't mention value of the a and b arguments, it will take default values as a = 1 and b = 1.\n",
        "print(fibonacci_ol(3, 34, 55))  # if you mention value of the a and b arguments, it will take those values."
      ],
      "metadata": {
        "colab": {
          "base_uri": "https://localhost:8080/"
        },
        "id": "338eTqozyU4U",
        "outputId": "f5130e75-bcc5-48c1-d734-e02592beb80d"
      },
      "execution_count": null,
      "outputs": [
        {
          "output_type": "stream",
          "name": "stdout",
          "text": [
            "5\n",
            "233\n"
          ]
        }
      ]
    },
    {
      "cell_type": "code",
      "source": [
        "# Fibonacci elements using recursion relation\n",
        "\n",
        "def fibonacci_recursive(n, a=1, b=1):\n",
        "  if n > 1:\n",
        "    return fibonacci_recursive(n-1, a = b, b = a+b)\n",
        "  else:\n",
        "    return a + b\n",
        "\n",
        "print(fibonacci_recursive(3, 34, 55))\n",
        "print(fibonacci_recursive(1))"
      ],
      "metadata": {
        "colab": {
          "base_uri": "https://localhost:8080/"
        },
        "id": "JyujR3TY0KKE",
        "outputId": "ac763b01-2133-453c-ef14-344cfce9cafc"
      },
      "execution_count": null,
      "outputs": [
        {
          "output_type": "stream",
          "name": "stdout",
          "text": [
            "233\n",
            "2\n"
          ]
        }
      ]
    }
  ]
}